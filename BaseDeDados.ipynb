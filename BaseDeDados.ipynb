{
  "nbformat": 4,
  "nbformat_minor": 0,
  "metadata": {
    "colab": {
      "name": "BaseDeDados.ipynb",
      "private_outputs": true,
      "provenance": [],
      "authorship_tag": "ABX9TyM7brkesmrMVIuYTbG2cHr1",
      "include_colab_link": true
    },
    "kernelspec": {
      "name": "python3",
      "display_name": "Python 3"
    },
    "language_info": {
      "name": "python"
    }
  },
  "cells": [
    {
      "cell_type": "markdown",
      "metadata": {
        "id": "view-in-github",
        "colab_type": "text"
      },
      "source": [
        "<a href=\"https://colab.research.google.com/github/Lucmendess/BaseDeDados/blob/main/BaseDeDados.ipynb\" target=\"_parent\"><img src=\"https://colab.research.google.com/assets/colab-badge.svg\" alt=\"Open In Colab\"/></a>"
      ]
    },
    {
      "cell_type": "markdown",
      "source": [
        "Importando pacote pandas"
      ],
      "metadata": {
        "id": "40AeBQ1KZQaT"
      }
    },
    {
      "cell_type": "code",
      "execution_count": null,
      "metadata": {
        "id": "9nz5uSo_lyMD"
      },
      "outputs": [],
      "source": [
        "import pandas as pd"
      ]
    },
    {
      "cell_type": "markdown",
      "source": [
        "Informando o caminho do Dataset"
      ],
      "metadata": {
        "id": "LCpQSLH6ZPRq"
      }
    },
    {
      "cell_type": "code",
      "source": [
        "df = pd.read_csv('/content/sample_data/municipio_despesas_funcao.csv')"
      ],
      "metadata": {
        "id": "95x0KGYeypOe"
      },
      "execution_count": null,
      "outputs": []
    },
    {
      "cell_type": "markdown",
      "source": [
        "Visualizando as linhas"
      ],
      "metadata": {
        "id": "FJBf7Hs4ZiLF"
      }
    },
    {
      "cell_type": "code",
      "source": [
        "df.head"
      ],
      "metadata": {
        "id": "hoZtw5VFy-JR"
      },
      "execution_count": null,
      "outputs": []
    },
    {
      "cell_type": "markdown",
      "source": [
        "Mostrando todas as colunas"
      ],
      "metadata": {
        "id": "ZfIZaam-_1IN"
      }
    },
    {
      "cell_type": "code",
      "source": [
        "df.info()"
      ],
      "metadata": {
        "id": "BC7WPUcRPR4G"
      },
      "execution_count": null,
      "outputs": []
    },
    {
      "cell_type": "markdown",
      "source": [
        "Importando pacote Matplotilib e numpy"
      ],
      "metadata": {
        "id": "ORtzqkFpMqkN"
      }
    },
    {
      "cell_type": "code",
      "source": [
        "import matplotlib.pyplot as plt\n",
        "import numpy as np\n",
        "\n",
        "from random import randint\n",
        "\n"
      ],
      "metadata": {
        "id": "zbGNJTAR0NUr"
      },
      "execution_count": null,
      "outputs": []
    },
    {
      "cell_type": "code",
      "source": [
        "\n",
        "\n",
        "# Criando gráfico de despesas por municipios\n",
        "fig, ax = plt.subplots()\n",
        "fig.savefig('gráfico das despesas')\n",
        "port = np.array(['ano ', 'id_municipio ','valor'])\n",
        "ax.plot(x)\n",
        "plt.show()"
      ],
      "metadata": {
        "id": "Jye_B9SkG6rw"
      },
      "execution_count": null,
      "outputs": []
    },
    {
      "cell_type": "markdown",
      "source": [
        "Visualizando dados referente ao ano das despesas"
      ],
      "metadata": {
        "id": "Ly01pgpfM3MZ"
      }
    },
    {
      "cell_type": "code",
      "source": [
        "df['ano']"
      ],
      "metadata": {
        "id": "NYw4BvA8OZG4"
      },
      "execution_count": null,
      "outputs": []
    },
    {
      "cell_type": "markdown",
      "source": [
        "Visualizando dados referente ao múnicipios verificados "
      ],
      "metadata": {
        "id": "SfQ4BdqNM-Ef"
      }
    },
    {
      "cell_type": "code",
      "source": [
        "df['sigla_uf']"
      ],
      "metadata": {
        "id": "AvDAMStAUtG3"
      },
      "execution_count": null,
      "outputs": []
    },
    {
      "cell_type": "code",
      "source": [
        "df['id_conta_bd']"
      ],
      "metadata": {
        "id": "Y90DFH4-U1z4"
      },
      "execution_count": null,
      "outputs": []
    },
    {
      "cell_type": "markdown",
      "source": [
        "Visualização das despesas \n"
      ],
      "metadata": {
        "id": "82rBiwHzNN_8"
      }
    },
    {
      "cell_type": "code",
      "source": [
        "df['estagio_bd']"
      ],
      "metadata": {
        "id": "b9nF_l0pWkV9"
      },
      "execution_count": null,
      "outputs": []
    },
    {
      "cell_type": "markdown",
      "source": [
        "Visualização dos identificadores."
      ],
      "metadata": {
        "id": "kZanFNijNWvs"
      }
    },
    {
      "cell_type": "code",
      "source": [
        "df.id_municipio.value_counts()"
      ],
      "metadata": {
        "id": "y9ifgFseQKPi"
      },
      "execution_count": null,
      "outputs": []
    },
    {
      "cell_type": "code",
      "source": [
        "df.sort_values('conta', ascending=False)[:5].id_municipio.unique()\n"
      ],
      "metadata": {
        "id": "TBOst159QJrn"
      },
      "execution_count": null,
      "outputs": []
    },
    {
      "cell_type": "code",
      "source": [
        "df "
      ],
      "metadata": {
        "id": "rNGZSFyqzF61"
      },
      "execution_count": null,
      "outputs": []
    },
    {
      "cell_type": "markdown",
      "source": [
        "Solicitando a visualização dos dados no arquivo"
      ],
      "metadata": {
        "id": "P5wexAGgNo-e"
      }
    },
    {
      "cell_type": "code",
      "source": [
        "df = pd.DataFrame({'despesas': ['ano', 'sigla_uf', ' id_municipio', 'estagio', \n",
        "                    'portaria','conta', 'valor']})"
      ],
      "metadata": {
        "id": "oaaWk3jZZ-SH"
      },
      "execution_count": null,
      "outputs": []
    },
    {
      "cell_type": "code",
      "source": [
        "df"
      ],
      "metadata": {
        "id": "8oiAEEx8E6FG"
      },
      "execution_count": null,
      "outputs": []
    },
    {
      "cell_type": "code",
      "source": [
        ""
      ],
      "metadata": {
        "id": "lwpHy0WmE-Va"
      },
      "execution_count": null,
      "outputs": []
    }
  ]
}