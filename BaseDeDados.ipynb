{
  "nbformat": 4,
  "nbformat_minor": 0,
  "metadata": {
    "colab": {
      "name": "BaseDeDados.ipynb",
      "private_outputs": true,
      "provenance": [],
      "authorship_tag": "ABX9TyO20Y/cJg37V3l6vWR9e4/J",
      "include_colab_link": true
    },
    "kernelspec": {
      "name": "python3",
      "display_name": "Python 3"
    },
    "language_info": {
      "name": "python"
    }
  },
  "cells": [
    {
      "cell_type": "markdown",
      "metadata": {
        "id": "view-in-github",
        "colab_type": "text"
      },
      "source": [
        "<a href=\"https://colab.research.google.com/github/Lucmendess/BaseDeDados/blob/main/BaseDeDados.ipynb\" target=\"_parent\"><img src=\"https://colab.research.google.com/assets/colab-badge.svg\" alt=\"Open In Colab\"/></a>"
      ]
    },
    {
      "cell_type": "code",
      "execution_count": null,
      "metadata": {
        "id": "9nz5uSo_lyMD"
      },
      "outputs": [],
      "source": [
        "import pandas as pd"
      ]
    },
    {
      "cell_type": "code",
      "source": [
        "df = pd.read_csv('/content/sample_data/municipio_despesas_funcao.csv')"
      ],
      "metadata": {
        "id": "95x0KGYeypOe"
      },
      "execution_count": null,
      "outputs": []
    },
    {
      "cell_type": "code",
      "source": [
        "df.head"
      ],
      "metadata": {
        "id": "hoZtw5VFy-JR"
      },
      "execution_count": null,
      "outputs": []
    },
    {
      "cell_type": "code",
      "source": [
        "df.info()"
      ],
      "metadata": {
        "id": "BC7WPUcRPR4G"
      },
      "execution_count": null,
      "outputs": []
    },
    {
      "cell_type": "markdown",
      "source": [
        "Usando  Matplotlib para o gráfico em que mostra "
      ],
      "metadata": {
        "id": "GEsXl7yI0EWL"
      }
    },
    {
      "cell_type": "code",
      "source": [
        "import matplotlib.pyplot as plt\n",
        "import numpy as np\n",
        "\n",
        "# make data\n",
        "np.random.seed(1)\n",
        "x = 4 + np.random.normal(0, 1.5, 200)\n",
        "\n",
        "# plot:\n",
        "fig, ax = plt.subplots()\n",
        "\n",
        "ax.hist(x, bins=8, linewidth=0.5, edgecolor=\"white\")\n",
        "\n",
        "ax.set(xlim=(0, 8), xticks=np.arange(1, 8),\n",
        "       ylim=(0, 56), yticks=np.linspace(0, 56, 9))\n",
        "\n",
        "plt.show()"
      ],
      "metadata": {
        "id": "zbGNJTAR0NUr"
      },
      "execution_count": null,
      "outputs": []
    },
    {
      "cell_type": "code",
      "source": [
        "df['ano']"
      ],
      "metadata": {
        "id": "NYw4BvA8OZG4"
      },
      "execution_count": null,
      "outputs": []
    },
    {
      "cell_type": "code",
      "source": [
        "df['sigla_uf']"
      ],
      "metadata": {
        "id": "AvDAMStAUtG3"
      },
      "execution_count": null,
      "outputs": []
    },
    {
      "cell_type": "code",
      "source": [
        "df['id_conta_bd']"
      ],
      "metadata": {
        "id": "Y90DFH4-U1z4"
      },
      "execution_count": null,
      "outputs": []
    },
    {
      "cell_type": "code",
      "source": [
        "df['estagio_bd']"
      ],
      "metadata": {
        "id": "b9nF_l0pWkV9"
      },
      "execution_count": null,
      "outputs": []
    },
    {
      "cell_type": "code",
      "source": [
        "from dataclasses import replace\n",
        "df['valor'] = df['valor'].str.replace('\\.','', replace)"
      ],
      "metadata": {
        "id": "wuaMBQqwO5gi"
      },
      "execution_count": null,
      "outputs": []
    },
    {
      "cell_type": "code",
      "source": [
        "df.id_municipio.value_counts()"
      ],
      "metadata": {
        "id": "y9ifgFseQKPi"
      },
      "execution_count": null,
      "outputs": []
    },
    {
      "cell_type": "code",
      "source": [
        "fig = px.bar(df.unique(),title='conta_db')\n",
        "fig.update_xaxes(title_txt)"
      ],
      "metadata": {
        "id": "x4rPgcwVQic6"
      },
      "execution_count": null,
      "outputs": []
    },
    {
      "cell_type": "code",
      "source": [
        "df.sort_values('conta', ascending=False)[:5].id_municipio.unique()\n"
      ],
      "metadata": {
        "id": "TBOst159QJrn"
      },
      "execution_count": null,
      "outputs": []
    },
    {
      "cell_type": "code",
      "source": [
        "df "
      ],
      "metadata": {
        "id": "rNGZSFyqzF61"
      },
      "execution_count": null,
      "outputs": []
    }
  ]
}